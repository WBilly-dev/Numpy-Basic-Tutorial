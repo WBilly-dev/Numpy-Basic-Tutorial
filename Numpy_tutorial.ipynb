{
 "cells": [
  {
   "cell_type": "markdown",
   "metadata": {},
   "source": [
    "<h1>Numpy</h1>"
   ]
  },
  {
   "cell_type": "markdown",
   "metadata": {},
   "source": [
    "<h2>Por qué Numpy?</h2>"
   ]
  },
  {
   "cell_type": "markdown",
   "metadata": {},
   "source": [
    "Nos permite realizar operaciones con matrices numéricas."
   ]
  },
  {
   "cell_type": "markdown",
   "metadata": {},
   "source": [
    "Ventajas: Velocidad , Funcionalidad , Interoperabilidad."
   ]
  },
  {
   "cell_type": "markdown",
   "metadata": {},
   "source": [
    "Nos permite crear Ndarray."
   ]
  },
  {
   "cell_type": "markdown",
   "metadata": {},
   "source": [
    "Podemos observar el tipo de dato del array usando el .type(array) que nos devuelve que es de tipo ndarray.\n",
    "Ejemplo : un_array=np.array([7,77,777]) es un array de una dimensión con un tamaño de 3.\n",
    "Con el array.shape podemos observar el tamaño y dimensión del array que se le pasa al método.\n",
    " "
   ]
  },
  {
   "cell_type": "code",
   "execution_count": 2,
   "metadata": {},
   "outputs": [
    {
     "name": "stdout",
     "output_type": "stream",
     "text": [
      "[  7  77 777]\n",
      "<class 'numpy.ndarray'>\n",
      "(3,)\n"
     ]
    }
   ],
   "source": [
    "import numpy as np\n",
    "\n",
    "arr1=np.array([7,77,777])\n",
    "print(arr1)\n",
    "print(type(arr1))\n",
    "print(arr1.shape)"
   ]
  },
  {
   "cell_type": "markdown",
   "metadata": {},
   "source": [
    "Si queremos tener un array de dos dimensiones o más se debe dividir los datos dentro de [] por una , de esta manera el array se convierte en un plano.\n",
    "Ejemplo: un_array2=([[7,77,777],[7,77,777]]) esto es un array de dos dimensiones. Es un array de 2x4 dos filas y 4 columnas.\n",
    "Consejo: El primer dato muestra siempre las filas y el segundo las columnas."
   ]
  },
  {
   "cell_type": "code",
   "execution_count": 3,
   "metadata": {},
   "outputs": [
    {
     "name": "stdout",
     "output_type": "stream",
     "text": [
      "[[   7   77  777 7777]\n",
      " [   7  777 7777   45]]\n"
     ]
    }
   ],
   "source": [
    "import numpy as np\n",
    "arr2=np.array([[7,77,777,7777],[7,777,7777,45]])\n",
    "print(arr2)"
   ]
  },
  {
   "cell_type": "markdown",
   "metadata": {},
   "source": [
    "Para acceder a los valores de un array es suficiente con llamar al array y pasarle entre [ ] las posición del valor que quiero acceder.\n",
    "Ejemplo: print(array[0])"
   ]
  },
  {
   "cell_type": "code",
   "execution_count": 4,
   "metadata": {},
   "outputs": [
    {
     "name": "stdout",
     "output_type": "stream",
     "text": [
      "777\n"
     ]
    }
   ],
   "source": [
    "print(arr2[1][1])"
   ]
  },
  {
   "cell_type": "markdown",
   "metadata": {},
   "source": [
    "<h2>Array Multidimesional</h2>"
   ]
  },
  {
   "cell_type": "markdown",
   "metadata": {},
   "source": [
    "Ejemplo :\n",
    "multidimensional=np.array([[1,5,4],[7,8,9],[5,6,7]]) esto es un array 3x3."
   ]
  },
  {
   "cell_type": "code",
   "execution_count": 5,
   "metadata": {},
   "outputs": [
    {
     "name": "stdout",
     "output_type": "stream",
     "text": [
      "[[1 5 4]\n",
      " [7 8 9]\n",
      " [5 6 7]]\n"
     ]
    }
   ],
   "source": [
    "multidimensional=np.array([[1,5,4],[7,8,9],[5,6,7]])\n",
    "print(multidimensional)"
   ]
  },
  {
   "cell_type": "markdown",
   "metadata": {},
   "source": [
    "Para acceder a la posición de un dato en un array multidimensional se especifica la fila y luego la columna en la que va a recorrer entre [ ][ ]\n",
    "Ejemplo:\n",
    "multidimensional[2][0]."
   ]
  },
  {
   "cell_type": "code",
   "execution_count": 6,
   "metadata": {},
   "outputs": [
    {
     "name": "stdout",
     "output_type": "stream",
     "text": [
      "5\n"
     ]
    }
   ],
   "source": [
    "print(multidimensional[2][0])"
   ]
  },
  {
   "cell_type": "markdown",
   "metadata": {},
   "source": [
    "Consejo: Las posiciones de un array comienzan en 0."
   ]
  },
  {
   "cell_type": "markdown",
   "metadata": {},
   "source": [
    "<h2>Distintas maneras de crear ndarrays</h2>"
   ]
  },
  {
   "cell_type": "markdown",
   "metadata": {},
   "source": [
    "Array lleno de ceros\n",
    "ej1=np.zeros((1080,1920))"
   ]
  },
  {
   "cell_type": "code",
   "execution_count": 7,
   "metadata": {},
   "outputs": [
    {
     "name": "stdout",
     "output_type": "stream",
     "text": [
      "[[0. 0. 0. ... 0. 0. 0.]\n",
      " [0. 0. 0. ... 0. 0. 0.]\n",
      " [0. 0. 0. ... 0. 0. 0.]\n",
      " ...\n",
      " [0. 0. 0. ... 0. 0. 0.]\n",
      " [0. 0. 0. ... 0. 0. 0.]\n",
      " [0. 0. 0. ... 0. 0. 0.]]\n"
     ]
    }
   ],
   "source": [
    "ej1=np.zeros((1080,1920))\n",
    "print(ej1)"
   ]
  },
  {
   "cell_type": "markdown",
   "metadata": {},
   "source": [
    "Este metodo zeros(()) crea un array lleno de 0. Se especifica la cantidad de filas y columnas. Separados por comas."
   ]
  },
  {
   "cell_type": "markdown",
   "metadata": {},
   "source": [
    "El método np.full((y,z),x) crea un array de una dimension especificada con y,z y=filas y z=columnas , y  x especifica el número con el que se va a llenar dicho array."
   ]
  },
  {
   "cell_type": "code",
   "execution_count": 8,
   "metadata": {},
   "outputs": [
    {
     "name": "stdout",
     "output_type": "stream",
     "text": [
      "[[5 5]\n",
      " [5 5]]\n"
     ]
    }
   ],
   "source": [
    "arr3=np.full((2,2),5)\n",
    "print(arr3)"
   ]
  },
  {
   "cell_type": "markdown",
   "metadata": {},
   "source": [
    "<h2>Arrays de indice e indexado booleano</h2>"
   ]
  },
  {
   "cell_type": "code",
   "execution_count": 9,
   "metadata": {},
   "outputs": [
    {
     "name": "stdout",
     "output_type": "stream",
     "text": [
      "[[11 12 13]\n",
      " [21 22 23]\n",
      " [31 32 33]\n",
      " [41 42 43]]\n",
      "(4, 3)\n"
     ]
    }
   ],
   "source": [
    "array_a=np.array([[11,12,13],[21,22,23],[31,32,33],[41,42,43]])\n",
    "print(array_a)\n",
    "print(array_a.shape)"
   ]
  },
  {
   "cell_type": "markdown",
   "metadata": {},
   "source": [
    "Con el método np.arange(x) se puede crear arrays donde x indica el número hasta donde va a contar."
   ]
  },
  {
   "cell_type": "code",
   "execution_count": 10,
   "metadata": {},
   "outputs": [
    {
     "name": "stdout",
     "output_type": "stream",
     "text": [
      "Filas: [0 1 2 3]\n",
      "Columnas: [0 1 2 0]\n"
     ]
    }
   ],
   "source": [
    "cols=np.array([0,1,2,0])\n",
    "rows=np.arange(4)\n",
    "print(\"Filas:\",rows)\n",
    "print(\"Columnas:\",cols)"
   ]
  },
  {
   "cell_type": "code",
   "execution_count": 11,
   "metadata": {},
   "outputs": [
    {
     "name": "stdout",
     "output_type": "stream",
     "text": [
      "Rows: 0 Cols: 0\n",
      "Rows: 1 Cols: 1\n",
      "Rows: 2 Cols: 2\n",
      "Rows: 3 Cols: 0\n"
     ]
    }
   ],
   "source": [
    "for row , col in zip(rows,cols):\n",
    "    print(\"Rows:\",row,\"Cols:\",col)"
   ]
  },
  {
   "cell_type": "code",
   "execution_count": 12,
   "metadata": {},
   "outputs": [
    {
     "name": "stdout",
     "output_type": "stream",
     "text": [
      "[11 22 33 41]\n"
     ]
    }
   ],
   "source": [
    "print(array_a[rows,cols])"
   ]
  },
  {
   "cell_type": "markdown",
   "metadata": {},
   "source": [
    "Haciendo uso de los [x,y ] con un array se pueden modificar el valor de los datos cuyan posición marcan los índices. Ejemplo a continuación:"
   ]
  },
  {
   "cell_type": "code",
   "execution_count": 13,
   "metadata": {},
   "outputs": [
    {
     "name": "stdout",
     "output_type": "stream",
     "text": [
      "[[11 12 13]\n",
      " [21 22 23]\n",
      " [31 32 33]\n",
      " [41 42 43]]\n",
      "[[1011   12   13]\n",
      " [  21 1022   23]\n",
      " [  31   32 1033]\n",
      " [1041   42   43]]\n"
     ]
    }
   ],
   "source": [
    "print(array_a)\n",
    "array_a[rows,cols]+=1000\n",
    "print(array_a)"
   ]
  },
  {
   "cell_type": "markdown",
   "metadata": {},
   "source": [
    "Tambien se pueden crear filtros a los arrays de una forma muy fácil."
   ]
  },
  {
   "cell_type": "code",
   "execution_count": 14,
   "metadata": {},
   "outputs": [
    {
     "name": "stdout",
     "output_type": "stream",
     "text": [
      "[[11 12]\n",
      " [21 22]\n",
      " [31 32]]\n",
      "********************\n",
      "(3, 2)\n"
     ]
    }
   ],
   "source": [
    "array_b=np.array([[11,12],[21,22],[31,32]])\n",
    "print(array_b)\n",
    "print(\"********************\")\n",
    "print(array_b.shape)"
   ]
  },
  {
   "cell_type": "code",
   "execution_count": 15,
   "metadata": {},
   "outputs": [
    {
     "name": "stdout",
     "output_type": "stream",
     "text": [
      "[[False False]\n",
      " [ True  True]\n",
      " [ True  True]]\n",
      "***************\n",
      "[21 22 31 32]\n"
     ]
    }
   ],
   "source": [
    "filtro= (array_b>15)\n",
    "#Aqui se crea el filtro para usarlo posteriormente\n",
    "print(filtro)\n",
    "filtrado=array_b[filtro]\n",
    "print(\"***************\")\n",
    "print(filtrado)"
   ]
  },
  {
   "cell_type": "markdown",
   "metadata": {},
   "source": [
    "De la anterior forma el filtro solamente toma los valores que devuelven True y al pasarselo a un array este solamente muestra los valores de la posición  donde devolvió True lo que en forma de datos."
   ]
  },
  {
   "cell_type": "markdown",
   "metadata": {},
   "source": [
    "Aunque no es necesario crear el filtro previamente , simplemente se le pasa ya la condición directamente al array."
   ]
  },
  {
   "cell_type": "code",
   "execution_count": 16,
   "metadata": {},
   "outputs": [
    {
     "name": "stdout",
     "output_type": "stream",
     "text": [
      "[12 22 32]\n"
     ]
    }
   ],
   "source": [
    "print(array_b[(array_b%2==0)])\n",
    "#Esto muestra los numeros pares."
   ]
  },
  {
   "cell_type": "markdown",
   "metadata": {},
   "source": [
    "El uso principal de estos filtros es para modificar los datos de un array donde se cumplan las condiciones deseadas."
   ]
  },
  {
   "cell_type": "code",
   "execution_count": 17,
   "metadata": {},
   "outputs": [
    {
     "name": "stdout",
     "output_type": "stream",
     "text": [
      "[[  11 1012]\n",
      " [  21 1022]\n",
      " [  31 1032]]\n"
     ]
    }
   ],
   "source": [
    "array_b[array_b%2==0]+=1000\n",
    "print(array_b)"
   ]
  },
  {
   "cell_type": "markdown",
   "metadata": {},
   "source": [
    "<h2>Slices</h2>"
   ]
  },
  {
   "cell_type": "markdown",
   "metadata": {},
   "source": [
    "Hacer un slice en un array sirve para aislar una \"sub-región\" de la matriz de un ndarray"
   ]
  },
  {
   "cell_type": "code",
   "execution_count": 18,
   "metadata": {},
   "outputs": [
    {
     "name": "stdout",
     "output_type": "stream",
     "text": [
      "[[11 12 13 14 15 16]\n",
      " [21 22 23 24 25 26]\n",
      " [31 32 33 34 35 36]\n",
      " [41 42 43 44 45 46]]\n"
     ]
    }
   ],
   "source": [
    "un_array=np.array([[11,12,13,14,15,16],[21,22,23,24,25,26],[31,32,33,34,35,36],[41,42,43,44,45,46]])\n",
    "print(un_array)"
   ]
  },
  {
   "cell_type": "markdown",
   "metadata": {},
   "source": [
    "Crearemos un slice de 2x2 a partir de un_array"
   ]
  },
  {
   "cell_type": "markdown",
   "metadata": {},
   "source": [
    "Consejo:En el siguiente caso nótese que al limitar el slice al 2 esta posición no se cuenta. Por tanto llegaría solamente a los datos del 0 al 1, igualmente en el caso de 1:3 limitará desde el 1 al 2. La primera limitación se realiza en las filas y la 2 en las columnas. Por tanto el números que marca el final no se incluye."
   ]
  },
  {
   "cell_type": "code",
   "execution_count": 19,
   "metadata": {},
   "outputs": [
    {
     "name": "stdout",
     "output_type": "stream",
     "text": [
      "[[12 13]\n",
      " [22 23]]\n"
     ]
    }
   ],
   "source": [
    "un_slice=un_array[0:2,1:3]\n",
    "print(un_slice)"
   ]
  },
  {
   "cell_type": "markdown",
   "metadata": {},
   "source": [
    "Entonces luego de marcar la sub-region como se hizo anteriormente entonces se crea un slice a la misma donde se marca el dato a mostrar."
   ]
  },
  {
   "cell_type": "code",
   "execution_count": 20,
   "metadata": {},
   "outputs": [
    {
     "name": "stdout",
     "output_type": "stream",
     "text": [
      "Slice: 12\n"
     ]
    }
   ],
   "source": [
    "print(\"Slice:\",un_slice[0,0])"
   ]
  },
  {
   "cell_type": "markdown",
   "metadata": {},
   "source": [
    "Entonces podriamos modificar la posición que logramos obtener."
   ]
  },
  {
   "cell_type": "code",
   "execution_count": 21,
   "metadata": {},
   "outputs": [
    {
     "name": "stdout",
     "output_type": "stream",
     "text": [
      "Slice: 112\n"
     ]
    }
   ],
   "source": [
    "un_slice[0,0]+=100\n",
    "print(\"Slice:\",un_slice[0,0])"
   ]
  },
  {
   "cell_type": "markdown",
   "metadata": {},
   "source": [
    "Ahora al llamar al array principal de donde partió , de donde se saco la sub-región originalmente nótese que también cambió su valor, debido a que estuvimos trabajando en ese array principal desde el principio. Lo que de esta forma se facilitó su acceso ya que al delimitar su región las posiciones pasan a empezar desde 0 y es como si estuviéramos trabajando con un pequeño array."
   ]
  },
  {
   "cell_type": "markdown",
   "metadata": {},
   "source": [
    "Realmente un_slice es un puntero."
   ]
  },
  {
   "cell_type": "code",
   "execution_count": 22,
   "metadata": {},
   "outputs": [
    {
     "name": "stdout",
     "output_type": "stream",
     "text": [
      "[[ 11 112  13  14  15  16]\n",
      " [ 21  22  23  24  25  26]\n",
      " [ 31  32  33  34  35  36]\n",
      " [ 41  42  43  44  45  46]]\n"
     ]
    }
   ],
   "source": [
    "print(un_array)"
   ]
  },
  {
   "cell_type": "markdown",
   "metadata": {},
   "source": [
    "Si necesito sacar un nuevo array a partir de un slice simplemente se crea uno nuevo lo que se le pasa el slice."
   ]
  },
  {
   "cell_type": "code",
   "execution_count": 23,
   "metadata": {},
   "outputs": [
    {
     "name": "stdout",
     "output_type": "stream",
     "text": [
      "[[112  13]\n",
      " [ 22  23]]\n"
     ]
    }
   ],
   "source": [
    "nuevo_array=np.array(un_slice)\n",
    "print(nuevo_array)"
   ]
  },
  {
   "cell_type": "markdown",
   "metadata": {},
   "source": [
    "<h2>Tipos de datos ndarray y operaciones</h2>"
   ]
  },
  {
   "cell_type": "code",
   "execution_count": 24,
   "metadata": {},
   "outputs": [
    {
     "name": "stdout",
     "output_type": "stream",
     "text": [
      "int32\n"
     ]
    }
   ],
   "source": [
    "ej1=np.array([11,12])\n",
    "print(ej1.dtype)"
   ]
  },
  {
   "cell_type": "code",
   "execution_count": 25,
   "metadata": {},
   "outputs": [
    {
     "name": "stdout",
     "output_type": "stream",
     "text": [
      "float64\n"
     ]
    }
   ],
   "source": [
    "ej1=np.array([11.2,12.3])\n",
    "print(ej1.dtype)"
   ]
  },
  {
   "cell_type": "markdown",
   "metadata": {},
   "source": [
    "Tambien se pueden forzar el tipo de dato."
   ]
  },
  {
   "cell_type": "code",
   "execution_count": 26,
   "metadata": {},
   "outputs": [
    {
     "name": "stdout",
     "output_type": "stream",
     "text": [
      "float64\n"
     ]
    }
   ],
   "source": [
    "ej3=np.array([11,12],dtype=np.float64)\n",
    "print(ej3.dtype)"
   ]
  },
  {
   "cell_type": "markdown",
   "metadata": {},
   "source": [
    "Operaciones Aritméticas"
   ]
  },
  {
   "cell_type": "code",
   "execution_count": 27,
   "metadata": {},
   "outputs": [
    {
     "name": "stdout",
     "output_type": "stream",
     "text": [
      "int32\n",
      "float64\n",
      "[[-100.1 -100.1]\n",
      " [-100.1 -100.1]]\n"
     ]
    }
   ],
   "source": [
    "x=np.array([[111,112],[121,122]])\n",
    "y=np.array([[211.1,212.1],[221.1,222.1]])\n",
    "print(x.dtype)\n",
    "print(y.dtype)\n",
    "\n",
    "print(x-y)"
   ]
  },
  {
   "cell_type": "markdown",
   "metadata": {},
   "source": [
    "También se puede usar con el método .subtract(x-y)"
   ]
  },
  {
   "cell_type": "code",
   "execution_count": 28,
   "metadata": {},
   "outputs": [
    {
     "name": "stdout",
     "output_type": "stream",
     "text": [
      "[[-100.1 -100.1]\n",
      " [-100.1 -100.1]]\n"
     ]
    }
   ],
   "source": [
    "print(np.subtract(x,y))"
   ]
  },
  {
   "cell_type": "markdown",
   "metadata": {},
   "source": [
    "Igualmente se pueden hacer las siguientes operaciones:\n"
   ]
  },
  {
   "cell_type": "code",
   "execution_count": 29,
   "metadata": {},
   "outputs": [
    {
     "name": "stdout",
     "output_type": "stream",
     "text": [
      "[[23432.1 23755.2]\n",
      " [26753.1 27096.2]]\n",
      "***************\n",
      "[[0.52581715 0.52805281]\n",
      " [0.54726368 0.54930212]]\n",
      "***************\n",
      "[[10.53565375 10.58300524]\n",
      " [11.         11.04536102]]\n"
     ]
    }
   ],
   "source": [
    "print(x*y)#Tambien se puede usar np.multiply(x,y)\n",
    "print(\"***************\")\n",
    "print(x/y)#Tambien se puede usar np.divide(x,y)\n",
    "print(\"***************\")\n",
    "print(np.sqrt(x,y))#Raíz cuadrada"
   ]
  },
  {
   "cell_type": "markdown",
   "metadata": {},
   "source": [
    "Estadísticas Básicas"
   ]
  },
  {
   "cell_type": "code",
   "execution_count": 30,
   "metadata": {},
   "outputs": [
    {
     "name": "stdout",
     "output_type": "stream",
     "text": [
      "[[15.68788167 -1.03261976 -7.09708194 -1.31226262  9.10642806]\n",
      " [-1.44348916 -1.10584967 -5.83180806  4.64285266  0.41596512]]\n"
     ]
    }
   ],
   "source": [
    "#Generar un array aleatorio\n",
    "arr=10*np.random.randn(2,5)\n",
    "print(arr)"
   ]
  },
  {
   "cell_type": "code",
   "execution_count": 31,
   "metadata": {},
   "outputs": [
    {
     "name": "stdout",
     "output_type": "stream",
     "text": [
      "1.203001630151868\n"
     ]
    }
   ],
   "source": [
    "#Con mean() calcula el promedio de un array\n",
    "print(arr.mean())"
   ]
  },
  {
   "cell_type": "code",
   "execution_count": 32,
   "metadata": {},
   "outputs": [
    {
     "name": "stdout",
     "output_type": "stream",
     "text": [
      "[ 3.07046908 -0.66446582]\n"
     ]
    }
   ],
   "source": [
    "#Calcular el promedio pero en este caso fila por fila\n",
    "print(arr.mean(axis=1))"
   ]
  },
  {
   "cell_type": "code",
   "execution_count": 33,
   "metadata": {},
   "outputs": [
    {
     "name": "stdout",
     "output_type": "stream",
     "text": [
      "[ 7.12219626 -1.06923472 -6.464445    1.66529502  4.76119659]\n"
     ]
    }
   ],
   "source": [
    "#Calcular el promedio pero en este caso por columna\n",
    "print(arr.mean(axis=0))"
   ]
  },
  {
   "cell_type": "markdown",
   "metadata": {},
   "source": [
    "Con sort() se ordena los arrays"
   ]
  },
  {
   "cell_type": "code",
   "execution_count": 34,
   "metadata": {},
   "outputs": [
    {
     "name": "stdout",
     "output_type": "stream",
     "text": [
      "[[-7.09708194 -1.31226262 -1.03261976  9.10642806 15.68788167]\n",
      " [-5.83180806 -1.44348916 -1.10584967  0.41596512  4.64285266]]\n"
     ]
    }
   ],
   "source": [
    "arr.sort()\n",
    "print(arr)"
   ]
  },
  {
   "cell_type": "markdown",
   "metadata": {},
   "source": [
    "Con el método np.unique(array) busca los elementos unicos del array.\n",
    "MUY UTIL"
   ]
  },
  {
   "cell_type": "code",
   "execution_count": 35,
   "metadata": {},
   "outputs": [
    {
     "name": "stdout",
     "output_type": "stream",
     "text": [
      "[1 2 3 4]\n"
     ]
    }
   ],
   "source": [
    "un=np.array([1,2,4,1,3])\n",
    "print(np.unique(un))"
   ]
  },
  {
   "cell_type": "markdown",
   "metadata": {},
   "source": [
    "<h2>Operaciones en conjunto</h2>"
   ]
  },
  {
   "cell_type": "code",
   "execution_count": 36,
   "metadata": {},
   "outputs": [
    {
     "name": "stdout",
     "output_type": "stream",
     "text": [
      "['silla' 'mesa' 'escritorio']\n",
      "['escritorio' 'silla' 'lampara']\n"
     ]
    }
   ],
   "source": [
    "s1=np.array([\"silla\",\"mesa\",\"escritorio\"])\n",
    "s2=np.array([\"escritorio\",\"silla\",\"lampara\"])\n",
    "print(s1)\n",
    "print(s2)"
   ]
  },
  {
   "cell_type": "code",
   "execution_count": 37,
   "metadata": {},
   "outputs": [
    {
     "name": "stdout",
     "output_type": "stream",
     "text": [
      "['escritorio' 'silla']\n"
     ]
    }
   ],
   "source": [
    "#Interseccion\n",
    "print(np.intersect1d(s1,s2))"
   ]
  },
  {
   "cell_type": "code",
   "execution_count": 38,
   "metadata": {},
   "outputs": [
    {
     "name": "stdout",
     "output_type": "stream",
     "text": [
      "['escritorio' 'lampara' 'mesa' 'silla']\n"
     ]
    }
   ],
   "source": [
    "#Union en 1d\n",
    "print(np.union1d(s1,s2))"
   ]
  },
  {
   "cell_type": "code",
   "execution_count": 39,
   "metadata": {},
   "outputs": [
    {
     "name": "stdout",
     "output_type": "stream",
     "text": [
      "[ True False  True]\n"
     ]
    }
   ],
   "source": [
    "#Que elementos de s1 no estan en s2 (Devuelve valores booleanos)\n",
    "print(np.in1d(s1,s2))"
   ]
  },
  {
   "cell_type": "code",
   "execution_count": 40,
   "metadata": {},
   "outputs": [
    {
     "name": "stdout",
     "output_type": "stream",
     "text": [
      "['mesa']\n"
     ]
    }
   ],
   "source": [
    "#Elementos de s1 que no estan en s2\n",
    "print(np.setdiff1d(s1,s2))"
   ]
  },
  {
   "cell_type": "markdown",
   "metadata": {},
   "source": [
    "<h2>Operaciones Frecuentes</h2>"
   ]
  },
  {
   "cell_type": "markdown",
   "metadata": {},
   "source": [
    "Para sumar todos los datos dentro de un array"
   ]
  },
  {
   "cell_type": "markdown",
   "metadata": {},
   "source": [
    "np.sum(array)"
   ]
  },
  {
   "cell_type": "code",
   "execution_count": 41,
   "metadata": {},
   "outputs": [
    {
     "name": "stdout",
     "output_type": "stream",
     "text": [
      "66\n"
     ]
    }
   ],
   "source": [
    "ex1=np.array([[11,12],[21,22]])\n",
    "print(np.sum(ex1))"
   ]
  },
  {
   "cell_type": "markdown",
   "metadata": {},
   "source": [
    "Sumar solo una columna\n"
   ]
  },
  {
   "cell_type": "markdown",
   "metadata": {},
   "source": [
    "np.sum(array,axis=0)\n"
   ]
  },
  {
   "cell_type": "markdown",
   "metadata": {},
   "source": [
    "Sumar una fila \n"
   ]
  },
  {
   "cell_type": "markdown",
   "metadata": {},
   "source": [
    "np.sum(array,axis=1)"
   ]
  },
  {
   "cell_type": "code",
   "execution_count": 44,
   "metadata": {},
   "outputs": [
    {
     "name": "stdout",
     "output_type": "stream",
     "text": [
      "[[11 12]\n",
      " [21 22]]\n",
      "*******\n",
      "[32 34]\n",
      "[23 43]\n"
     ]
    }
   ],
   "source": [
    "print(ex1)\n",
    "print(\"*******\")\n",
    "print(np.sum(ex1,axis=0))\n",
    "print(np.sum(ex1,axis=1))"
   ]
  },
  {
   "cell_type": "markdown",
   "metadata": {},
   "source": [
    "Reformatear un array"
   ]
  },
  {
   "cell_type": "markdown",
   "metadata": {},
   "source": [
    "Primero se crea el array y con el .reshape() se cambia su forma. "
   ]
  },
  {
   "cell_type": "code",
   "execution_count": 45,
   "metadata": {},
   "outputs": [
    {
     "name": "stdout",
     "output_type": "stream",
     "text": [
      "[ 0  1  2  3  4  5  6  7  8  9 10 11 12 13 14 15 16 17 18 19]\n"
     ]
    }
   ],
   "source": [
    "arr=np.arange(20) #array unidimensional\n",
    "print(arr)\n"
   ]
  },
  {
   "cell_type": "markdown",
   "metadata": {},
   "source": [
    "Se convirtió el array anterior en un 4x5 en el siguiente ejemplo."
   ]
  },
  {
   "cell_type": "code",
   "execution_count": 46,
   "metadata": {},
   "outputs": [
    {
     "name": "stdout",
     "output_type": "stream",
     "text": [
      "[[ 0  1  2  3  4]\n",
      " [ 5  6  7  8  9]\n",
      " [10 11 12 13 14]\n",
      " [15 16 17 18 19]]\n"
     ]
    }
   ],
   "source": [
    "reshaped_arr=arr.reshape(4,5)\n",
    "print(reshaped_arr)"
   ]
  },
  {
   "cell_type": "markdown",
   "metadata": {},
   "source": [
    "Transponer o transposicionar un array"
   ]
  },
  {
   "cell_type": "code",
   "execution_count": 48,
   "metadata": {},
   "outputs": [
    {
     "name": "stdout",
     "output_type": "stream",
     "text": [
      "[[11 12]\n",
      " [21 22]]\n",
      "********\n",
      "[[11 21]\n",
      " [12 22]]\n"
     ]
    }
   ],
   "source": [
    "print(ex1)\n",
    "print(\"********\")\n",
    "print(ex1.T)"
   ]
  },
  {
   "cell_type": "markdown",
   "metadata": {},
   "source": [
    "Where .... UTIL"
   ]
  },
  {
   "cell_type": "code",
   "execution_count": 49,
   "metadata": {},
   "outputs": [
    {
     "name": "stdout",
     "output_type": "stream",
     "text": [
      "[[0.97746025 0.63586794 0.59390208 0.49283084]\n",
      " [0.86247791 0.22750513 0.89262227 0.51447225]\n",
      " [0.22397743 0.76513048 0.43729726 0.23504079]\n",
      " [0.86853031 0.88530567 0.922673   0.33902414]]\n"
     ]
    }
   ],
   "source": [
    "mat=np.random.rand(4,4)\n",
    "print(mat)"
   ]
  },
  {
   "cell_type": "markdown",
   "metadata": {},
   "source": [
    "Ahora se le pasa el metodo np.where(array<>condicion,si cumple remplaza por esto,si no por esto).Ejemplo a continuacion:"
   ]
  },
  {
   "cell_type": "code",
   "execution_count": 51,
   "metadata": {},
   "outputs": [
    {
     "name": "stdout",
     "output_type": "stream",
     "text": [
      "[[1 1 1 0]\n",
      " [1 0 1 1]\n",
      " [0 1 0 0]\n",
      " [1 1 1 0]]\n"
     ]
    }
   ],
   "source": [
    "print(np.where(mat>0.5, 1, 0))"
   ]
  },
  {
   "cell_type": "markdown",
   "metadata": {},
   "source": [
    "Con array.any() podemos comprobar si existe algun dato distinto de 0 , esto funcionar tanto para los booleanos True y False."
   ]
  },
  {
   "cell_type": "code",
   "execution_count": 53,
   "metadata": {},
   "outputs": [
    {
     "name": "stdout",
     "output_type": "stream",
     "text": [
      "False\n",
      "True\n"
     ]
    }
   ],
   "source": [
    "ex2=np.array([0,0,0,0])\n",
    "print(ex2.any())\n",
    "#Si modificamos algun valor del array por cualquier numero que no sea 0 devuelve True.\n",
    "ex2=np.array([1,0,0,0])\n",
    "print(ex2.any())"
   ]
  },
  {
   "cell_type": "markdown",
   "metadata": {},
   "source": [
    "Con el metodo array.all() podemos comprobar si existe algun dato que no sea True."
   ]
  },
  {
   "cell_type": "code",
   "execution_count": 54,
   "metadata": {},
   "outputs": [
    {
     "name": "stdout",
     "output_type": "stream",
     "text": [
      "False\n"
     ]
    }
   ],
   "source": [
    "ex3=np.array([1,1,0])\n",
    "print(ex3.all()) #Devuelve False porque no todos los elementos son True."
   ]
  },
  {
   "cell_type": "markdown",
   "metadata": {},
   "source": [
    "Tambien existen metodos para unir dos arrays. "
   ]
  },
  {
   "cell_type": "markdown",
   "metadata": {},
   "source": [
    "np.vstack((array1,array2)) #Tambien se puede usar el metodo concatenate(axis=0 o 1)\n"
   ]
  },
  {
   "cell_type": "markdown",
   "metadata": {},
   "source": [
    "np.hstack((array1,array2))"
   ]
  },
  {
   "cell_type": "markdown",
   "metadata": {},
   "source": [
    "Existe tambien la propagacion se arrays al sumarle una fila o una columna a un array este debe tener el mismo tamaño , para sumar una columna al array luego de haber creado el array unidimensional que se desea propaganar se debe verticalizar con el metodo .T ."
   ]
  },
  {
   "cell_type": "markdown",
   "metadata": {},
   "source": [
    "<h2>Grabar un array</h2>"
   ]
  },
  {
   "cell_type": "code",
   "execution_count": 55,
   "metadata": {},
   "outputs": [],
   "source": [
    "x=np.array([23.23,24.24])\n",
    "np.save('array_prueba_save',x)\n"
   ]
  },
  {
   "cell_type": "markdown",
   "metadata": {},
   "source": [
    "Para cargar el array ya guardado.\n"
   ]
  },
  {
   "cell_type": "code",
   "execution_count": 56,
   "metadata": {},
   "outputs": [
    {
     "name": "stdout",
     "output_type": "stream",
     "text": [
      "Se recuperó el array: [23.23 24.24]\n"
     ]
    }
   ],
   "source": [
    "recuperado=np.load('array_prueba_save.npy')\n",
    "print(\"Se recuperó el array:\",recuperado)"
   ]
  }
 ],
 "metadata": {
  "kernelspec": {
   "display_name": "Python 3",
   "language": "python",
   "name": "python3"
  },
  "language_info": {
   "codemirror_mode": {
    "name": "ipython",
    "version": 3
   },
   "file_extension": ".py",
   "mimetype": "text/x-python",
   "name": "python",
   "nbconvert_exporter": "python",
   "pygments_lexer": "ipython3",
   "version": "3.11.4"
  },
  "orig_nbformat": 4
 },
 "nbformat": 4,
 "nbformat_minor": 2
}
